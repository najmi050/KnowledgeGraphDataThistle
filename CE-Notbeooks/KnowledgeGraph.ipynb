{
  "cells": [
    {
      "cell_type": "code",
      "execution_count": 7,
      "id": "7ad7cc11",
      "metadata": {
        "colab": {
          "base_uri": "https://localhost:8080/"
        },
        "id": "7ad7cc11",
        "outputId": "b83d078c-6fb0-41fc-fa49-9826dc92898a"
      },
      "outputs": [
        {
          "name": "stdout",
          "output_type": "stream",
          "text": [
            "Looking in indexes: https://pypi.org/simple, https://us-python.pkg.dev/colab-wheels/public/simple/\n",
            "Requirement already satisfied: rdflib in /usr/local/lib/python3.7/dist-packages (6.1.1)\n",
            "Requirement already satisfied: pyparsing in /usr/local/lib/python3.7/dist-packages (from rdflib) (3.0.9)\n",
            "Requirement already satisfied: isodate in /usr/local/lib/python3.7/dist-packages (from rdflib) (0.6.1)\n",
            "Requirement already satisfied: importlib-metadata in /usr/local/lib/python3.7/dist-packages (from rdflib) (4.11.4)\n",
            "Requirement already satisfied: setuptools in /usr/local/lib/python3.7/dist-packages (from rdflib) (57.4.0)\n",
            "Requirement already satisfied: typing-extensions>=3.6.4 in /usr/local/lib/python3.7/dist-packages (from importlib-metadata->rdflib) (4.1.1)\n",
            "Requirement already satisfied: zipp>=0.5 in /usr/local/lib/python3.7/dist-packages (from importlib-metadata->rdflib) (3.8.0)\n",
            "Requirement already satisfied: six in /usr/local/lib/python3.7/dist-packages (from isodate->rdflib) (1.15.0)\n"
          ]
        }
      ],
      "source": [
        "import dill\n",
        "import yaml\n",
        "import pickle\n",
        "import numpy as np\n",
        "import collections\n",
        "import string\n",
        "import copy\n",
        "from datetime import datetime\n",
        "import pandas as pd\n",
        "from yaml import safe_load\n",
        "from pandas.io.json import json_normalize\n",
        "from difflib import SequenceMatcher\n",
        "!pip install rdflib"
      ]
    },
    {
      "cell_type": "code",
      "execution_count": 8,
      "id": "5cf63df1",
      "metadata": {
        "colab": {
          "base_uri": "https://localhost:8080/"
        },
        "id": "5cf63df1",
        "outputId": "5c77fb87-6262-4389-9268-3775abd6a16d"
      },
      "outputs": [
        {
          "name": "stdout",
          "output_type": "stream",
          "text": [
            "Mounted at /content/drive\n"
          ]
        }
      ],
      "source": [
        "from rdflib import Graph, URIRef, Literal, Namespace, XSD\n",
        "from rdflib.namespace import RDF, RDFS\n",
        "from google.colab import drive\n",
        "drive.mount('/content/drive')"
      ]
    },
    {
      "cell_type": "code",
      "execution_count": null,
      "id": "f15ef21b",
      "metadata": {
        "id": "f15ef21b"
      },
      "outputs": [],
      "source": [
        "DataSetsfilepath = '/content/drive/MyDrive/session.pkl'\n",
        " # Save the session\n",
        "dill.load_session(DataSetsfilepath)"
      ]
    },
    {
      "cell_type": "code",
      "execution_count": null,
      "id": "55SK4piziAwo",
      "metadata": {
        "id": "55SK4piziAwo"
      },
      "outputs": [],
      "source": [
        "tic_desc"
      ]
    },
    {
      "cell_type": "code",
      "execution_count": 114,
      "id": "948b0d02",
      "metadata": {
        "id": "948b0d02"
      },
      "outputs": [],
      "source": [
        "\n",
        "g = Graph()\n",
        "\n",
        "g.namespace_manager.bind('ce', Namespace(\"https://w3id.org/ce#\"), override=\"False\")\n",
        "ce = Namespace(\"https://w3id.org/ce#\")"
      ]
    },
    {
      "cell_type": "code",
      "execution_count": null,
      "id": "845cab49",
      "metadata": {
        "id": "845cab49"
      },
      "outputs": [],
      "source": []
    },
    {
      "cell_type": "markdown",
      "id": "1638PWivUiv_",
      "metadata": {
        "id": "1638PWivUiv_"
      },
      "source": [
        "## **Event node**"
      ]
    },
    {
      "cell_type": "code",
      "execution_count": null,
      "id": "Z0BsOYDRUfaZ",
      "metadata": {
        "id": "Z0BsOYDRUfaZ"
      },
      "outputs": [],
      "source": []
    },
    {
      "cell_type": "code",
      "execution_count": null,
      "id": "67faf43f",
      "metadata": {
        "id": "67faf43f"
      },
      "outputs": [],
      "source": [
        "n=0\n",
        "for event_ in data['event_id']:\n",
        "    event = URIRef(\"https://w3id.org/ce/i/Event/\"+str(event_))\n",
        "    datas_event=data.loc[data['event_id']==event_]\n",
        "    data_event=datas_event.iloc[0]\n",
        "    #adding Event node\n",
        "    g.add((event, RDF.type, ce.Event))\n",
        "    g.add((event, ce.event_id, Literal(event_, datatype=XSD.integer)))\n",
        "    g.add((event,ce.created_ts,Literal(data_event['created_ts'],datatype=XSD.dateTime)))\n",
        "    g.add((event,ce.modified_ts,Literal(data_event['modified_ts'],datatype=XSD.dateTime)))\n",
        "    g.add((event, ce.name, Literal(data_event['name'], datatype=XSD.string)))\n",
        "    if(type(data_event['website'])!=float):\n",
        "        g.add((event, ce.website, Literal(str(data_event['website']), datatype=XSD.string)))\n",
        "    g.add((event, ce.sort_name, Literal(data_event['sort_name'], datatype=XSD.string)))\n",
        "    g.add((event, ce.ranking_in_level, Literal(int(data_event['ranking_in_level']), datatype=XSD.integer)))\n",
        "    g.add((event, ce.ranking_level, Literal(int(data_event['ranking_level']), datatype=XSD.integer)))\n",
        "    for t in datas_event['start_ts']:\n",
        "      category = URIRef(\"https://w3id.org/ce/i/Category/\"+str(event_)+\"/\"+str(t))\n",
        "      g.add((category, ce.category, Literal(data_event['category'], datatype=XSD.string)))\n",
        "    g.add((event,ce.hasCategory, category))\n",
        "    g.add((event, ce.status, Literal(data_event['status'], datatype=XSD.string)))\n",
        "    #adding Tag node\n",
        "    tag = URIRef(\"https://w3id.org/ce/i/Tag/\"+str(event_))\n",
        "    for i in data_event['tags']:\n",
        "        linkTag=i.replace(' ','')\n",
        "        #print(i)\n",
        "        g.add((tag,RDF.type,ce.Tag))\n",
        "        g.add((tag, ce.tags, Literal(i, datatype=XSD.string)))\n",
        "    g.add((event,ce.hasTag,tag))\n",
        "    #adding description node\n",
        "    if(type(data_event['description'])!=float or type(data_event['type'])!=float):\n",
        "        description = URIRef(\"https://w3id.org/ce/i/Description/\"+str(event_))\n",
        "        g.add((description,RDF.type,ce.Description))\n",
        "        if(type(data_event['description'])!=float):\n",
        "            g.add((description,ce.descriptions,Literal(data_event['description'], datatype=XSD.string)))\n",
        "        if(type(data_event['type'])!=float):\n",
        "            g.add((description,ce.types,Literal(data_event['type'].replace(' ',''), datatype=XSD.string)))\n",
        "        g.add((event,ce.hasDescription,description))\n",
        "    n+=1\n",
        "    print(n)\n",
        "    #adding schedules node\n",
        "    \n",
        "        "
      ]
    },
    {
      "cell_type": "code",
      "execution_count": null,
      "id": "IXJU-tMfznoD",
      "metadata": {
        "id": "IXJU-tMfznoD"
      },
      "outputs": [],
      "source": [
        "with open(\"/content/drive/MyDrive/df_new_events\",\"rb\") as event_data:\n",
        "    ScheduleData=pickle.load(event_data)\n",
        "ScheduleData=ScheduleData[['event_id','schedules']]\n",
        "ScheduleData"
      ]
    },
    {
      "cell_type": "code",
      "execution_count": null,
      "id": "daF5DG0izvNK",
      "metadata": {
        "id": "daF5DG0izvNK"
      },
      "outputs": [],
      "source": [
        "ScheduleData= ScheduleData.explode('schedules')\n",
        "nu= ScheduleData['schedules'].apply(pd.Series)\n",
        "ScheduleData= pd.concat([ScheduleData['event_id'],nu],axis=1)\n",
        "ScheduleData"
      ]
    },
    {
      "cell_type": "markdown",
      "id": "x_l3fBIFUXFl",
      "metadata": {
        "id": "x_l3fBIFUXFl"
      },
      "source": [
        "## **Schedule Node**"
      ]
    },
    {
      "cell_type": "code",
      "execution_count": null,
      "id": "2df235ba",
      "metadata": {
        "id": "2df235ba"
      },
      "outputs": [],
      "source": [
        "# filepath = '/Users/najmi/Desktop/Final Dissertation/sessionKnowledgeGraph.pkl'\n",
        "# dill.dump_session(filepath)\n",
        "i=0\n",
        "for ab in zip(ScheduleData['event_id'],ScheduleData['start_ts'],ScheduleData['place_id']):\n",
        "    event = URIRef(\"https://w3id.org/ce/i/Event/\"+str(ab[0]))\n",
        "    data_event=ScheduleData.loc[ScheduleData['event_id']==ab[0]]\n",
        "    data_event= data_event.loc[data_event['start_ts']==ab[1]]\n",
        "    data_event= data_event.loc[data_event['place_id']==ab[2]]\n",
        "    schedule= URIRef(\"https://w3id.org/ce/i/Schedule/\"+str(ab[0])+\"/\"+str(ab[2])+\"/\"+str(ab[1]))\n",
        "    g.add((schedule,RDF.type,ce.Schedule))\n",
        "    g.add((schedule,ce.start_ts,Literal(data_event['start_ts'], datatype=XSD.dateTime)))\n",
        "    g.add((schedule,ce.end_ts,Literal(data_event['end_ts'], datatype=XSD.dateTime)))\n",
        "    if(type(data_event['performance_space'])!=float):\n",
        "        g.add((schedule,ce.performance_space,Literal(data_event['performance_space'], datatype=XSD.string)))\n",
        "    g.add((event,ce.hasSchedule,schedule))\n",
        "    #PhoneNumber Node Schedule\n",
        "    if(len(SchedulePhoneData.loc[SchedulePhoneData['event_id']==ab[0]])>0):\n",
        "        SchedulePhone=SchedulePhoneData.loc[SchedulePhoneData['event_id']==ab[0]]\n",
        "        SchedulePhone=SchedulePhone.iloc[0]\n",
        "    \n",
        "        phoneNumber=URIRef(\"https://w3id.org/ce/i/PhoneNumber/Schedule/\"+str(ab[0])+\"/\"+str(ab[2])+\"/\"+str(ab[1]))\n",
        "        g.add((phoneNumber,RDF.type,ce.PhoneNumber))\n",
        "        if(type(SchedulePhoneData['info'])!=float):\n",
        "            g.add((phoneNumber,ce.info,Literal(SchedulePhone['info'],datatype=XSD.string)))\n",
        "        g.add((schedule,ce.hasPhoneNumber,phoneNumber))\n",
        "       \n",
        "        #PhoneNumer node Events\n",
        "    if(len(PhoneData_events.loc[PhoneData_events['event_id']==ab[0]])>0):\n",
        "        phoneDataEvent=PhoneData_events.loc[PhoneData_events['event_id']==ab[0]]\n",
        "        phoneDataEvent=phoneDataEvent.iloc[0]\n",
        "    \n",
        "        phoneNumberEvents=URIRef(\"https://w3id.org/ce/i/PhoneNumber/Event/\"+str(ab[0]))\n",
        "        g.add((phoneNumberEvents,RDF.type,ce.PhoneNumber))\n",
        "        if(type(phoneDataEvent['info'])!=float):\n",
        "            g.add((phoneNumberEvents,ce.info,Literal(phoneDataEvent['info'],datatype=XSD.string)))\n",
        "        elif(type(phoneDataEvent['box_office'])!=float):\n",
        "            g.add((phoneNumberEvents,ce.box_office,Literal(phoneDataEvent['box_office'],datatype=XSD.string)))\n",
        "        g.add((event,ce.hasPhoneNumber,phoneNumberEvents))\n",
        "        i+=1\n",
        "        print(i)\n",
        "        "
      ]
    },
    {
      "cell_type": "code",
      "execution_count": null,
      "id": "7739b35e",
      "metadata": {
        "id": "7739b35e"
      },
      "outputs": [],
      "source": [
        "data\n",
        "# filepath = '/Users/najmi/Desktop/Final Dissertation/sessionKnowledgeGraph.pkl'\n",
        "# dill.load_session(filepath)\n",
        "a=a.drop_duplicates(subset=['event_id','ts'],keep='first')\n",
        "a"
      ]
    },
    {
      "cell_type": "markdown",
      "id": "jERDtNFsULnT",
      "metadata": {
        "id": "jERDtNFsULnT"
      },
      "source": [
        "## **Performance** **Node**"
      ]
    },
    {
      "cell_type": "code",
      "execution_count": null,
      "id": "3e90a0a7",
      "metadata": {
        "id": "3e90a0a7"
      },
      "outputs": [],
      "source": [
        "#adding performance node \n",
        "i=0\n",
        "for ab in zip(a['event_id'],a['ts']):\n",
        "    data_event= data.loc[data['event_id']==ab[0]]\n",
        "    data_event= data_event.iloc[0]\n",
        "    p=a.loc[a['event_id']==ab[0]]\n",
        "    p=p.loc[p['ts']==ab[1]]\n",
        "    p=p.iloc[0]\n",
        "    #print(p)\n",
        "    schedule= URIRef(\"https://w3id.org/ce/i/Schedule/\"+str(ab[0])+\"/\"+str(data_event['start_ts']))\n",
        "    performance= URIRef(\"https://w3id.org/ce/i/Performance/\"+str(ab[0])+\"/\"+ab[1])\n",
        "    g.add((performance,RDF.type,ce.Performance))\n",
        "    g.add((performance,ce.ts,Literal(p['ts'],datatype=XSD.dateTime)))\n",
        "    g.add((performance,ce.duration,Literal(p['duration'],datatype=XSD.string)))\n",
        "    g.add((performance,ce.time_unkown,Literal(p['time_unknown'],datatype=XSD.string)))\n",
        "    g.add((schedule,ce.hasPerformance,performance))\n",
        "    # print(sum(performance_links['event_id']==ab[0]),'haa')\n",
        "    if(sum(performance_links['event_id']==ab[0])>0):\n",
        "        performance_link=performance_links.loc[performance_links['event_id']==ab[0]]\n",
        "        performance_link=performance_link.iloc[0]\n",
        "        \n",
        "        #print(performance_link)\n",
        "        \n",
        "        link = URIRef(\"https://w3id.org/ce/i/link/\"+str(ab[0]))\n",
        "        g.add((link,RDF.type,ce.Link))\n",
        "        if(type(performance_link['url'])!=float):\n",
        "            g.add((link,ce.url,Literal(performance_link['url'],datatype=XSD.string)))\n",
        "        elif(type(performance_link['title'])!=float):\n",
        "            g.add((link,ce.title,Literal(performance_link['title'],datatype=XSD.string)))\n",
        "        elif(type(performance_link['type'])!=float):\n",
        "            g.add((link,ce.type,Literal(performance_link['type'],datatype=XSD.string)))\n",
        "                      \n",
        "        g.add((performance,ce.hasLink,link))\n",
        "        # print(\"hi\")\n",
        "        \n",
        "    #adding performance's description\n",
        "    if(sum(prop_desc['event_id']==ab[0])>0):\n",
        "        \n",
        "        op= prop_desc.loc[prop_desc['event_id']==ab[0]]\n",
        "        #print(op)\n",
        "        op=op.iloc[0]\n",
        "        description = URIRef(\"https://w3id.org/ce/i/PerformanceDescription/\"+str(ab[0]))\n",
        "        g.add((description,RDF.type,ce.Description))\n",
        "        g.add((description,ce.descriptions,Literal(op['description'], datatype=XSD.string)))\n",
        "        g.add((performance,ce.hasDescription,description))\n",
        "    #adding PerformanceProperty Node\n",
        "    if(sum(c['event_id']==ab[0])>0):\n",
        "        d=c.loc[c['event_id']==ab[0]]\n",
        "        d=d.iloc[0]\n",
        "        performanceProperty= URIRef(\"https://w3id.org/ce/i/performanceProperty/\"+str(ab[0])+\"/\"+ab[1])\n",
        "        g.add((performanceProperty,RDF.type,ce.PerformanceProperty))\n",
        "        \n",
        "#         print(str(prop)==\"performance.sold-out\")\n",
        "#         print(prop)\n",
        "        if(type(c[\"performance.sold-out\"])!=float):\n",
        "            g.add((performanceProperty,ce.sold_out,Literal(d[\"performance.sold-out\"],datatype=XSD.boolean)))\n",
        "        elif(type(c[\"performance.cancelled\"])!=float):\n",
        "            g.add((performanceProperty,ce.cancelled,Literal(d[\"performance.cancelled\"],datatype=XSD.boolean)))\n",
        "        elif(type(c[\"list.hitlisted\"])!=float):\n",
        "            g.add((performance,ce.hit_listed,Literal(d[\"list.hitlisted\"],datatype=XSD.boolean)))\n",
        "        g.add((performance,ce.hasPropery,performanceProperty))\n",
        "    \n",
        "    if(sum(tickets['event_id']==ab[0])>0):\n",
        "        ticks=tickets.loc[tickets['event_id']==ab[0]]\n",
        "        ticks=ticks.iloc[0]\n",
        "        ticket= URIRef(\"https://w3id.org/ce/i/Ticket/\"+str(ab[0])+\"/\"+ab[1])\n",
        "        g.add((ticket,RDF.type,ce.Ticket))\n",
        "        g.add((ticket,ce.type,Literal(ticks['type'],datatype=XSD.string)))\n",
        "        g.add((ticket,ce.currency,Literal(ticks['currency'],datatype=XSD.string)))\n",
        "        g.add((ticket,ce.min_price,Literal(ticks['min_price'],datatype=XSD.integer)))\n",
        "        g.add((ticket,ce.max_price,Literal(ticks['max_price'],datatype=XSD.integer)))\n",
        "        description= URIRef(\"https://w3id.org/ce/i/TicketDescription/\"+str(ab[0])+\"/\"+ab[1])\n",
        "        g.add((description,RDF.type,ce.Description))\n",
        "        if(sum(tic_desc['event_id']==ab[0])>0):\n",
        "\n",
        "            desc=tic_desc.loc[tic_desc['event_id']==ab[0]]\n",
        "            desc=desc.iloc[0]\n",
        "            #print(desc['description'])\n",
        "            g.add((description,ce.description,Literal(desc['description'],datatype= XSD.string)))\n",
        "            g.add((ticket,ce.hasDescription,description))\n",
        "        g.add((performance,ce.hasTicket,ticket))\n",
        "        i+=1\n",
        "        print(i)\n",
        "            \n",
        "            \n",
        "             \n",
        "        "
      ]
    },
    {
      "cell_type": "code",
      "execution_count": null,
      "id": "7898bd94",
      "metadata": {
        "id": "7898bd94"
      },
      "outputs": [],
      "source": [
        "# f\n",
        "# dill.load_session(filepath)\n",
        "\n",
        "\n"
      ]
    },
    {
      "cell_type": "code",
      "execution_count": null,
      "id": "0f7c29bb",
      "metadata": {
        "id": "0f7c29bb"
      },
      "outputs": [],
      "source": [
        "os.listdir('/content/drive/MyDrive')"
      ]
    },
    {
      "cell_type": "markdown",
      "id": "5aEhDi6HVOUx",
      "metadata": {
        "id": "5aEhDi6HVOUx"
      },
      "source": [
        "# Propery Event node"
      ]
    },
    {
      "cell_type": "code",
      "execution_count": null,
      "id": "cf96cd40",
      "metadata": {
        "id": "cf96cd40"
      },
      "outputs": [],
      "source": [
        "#propertyEvent Node\n",
        "for event in c['event_id']:\n",
        "    p=a.loc[a['event_id']==event]\n",
        "    p=p.iloc[0]\n",
        "    performanceProperty= URIRef(\"https://w3id.org/ce/i/performanceProperty/\"+str(event)+\"/\"+str(p['ts']))#perfomanceTimeStamp\n",
        "    prop=c.loc[c['event_id']==event]\n",
        "    prop=prop.iloc[0]\n",
        "    \n",
        "    \n",
        "    propertyEvent= URIRef(\"https://w3id.org/ce/i/propertyEvent/\"+str(event)+\"/\"+str(p['ts']))\n",
        "    g.add((propertyEvent,RDF.type,ce.PropertyEvent))\n",
        "    print(prop)\n",
        "    if(type(prop['event.minimum-age'])!=float):\n",
        "        g.add((propertyEvent,ce.minimum_age,Literal(prop['event.minimum-age'],datatype=XSD.string)))\n",
        "    if(type(prop['event.support'])!=float):\n",
        "        g.add((propertyEvent,ce.event_support,Literal(prop['event.support'],datatype=XSD.string)))\n",
        "    if(type(prop['event.session'])!=float):\n",
        "        g.add((propertyEvent,ce.event_session,Literal(prop['event.session'],datatype=XSD.string)))\n",
        "    if(type(prop['event.festival'])!=float):\n",
        "        g.add((propertyEvent,ce.event_festival,Literal(prop['event.festival'],datatype=XSD.string)))\n",
        "    g.add((performanceProperty,ce.hasEvent,propertyEvent))\n",
        "    film= URIRef(\"https://w3id.org/ce/i/film/\"+str(event)+\"/\"+str(p['ts']))\n",
        "    #Film node\n",
        "    g.add((film,RDF.type,ce.Film))\n",
        "    \n",
        "    g.add((film,ce._3d,Literal(prop['event.film.3d'],datatype=XSD.boolean)))\n",
        "    if(type(prop['event.film.subtitled'])!=float):\n",
        "        g.add((film,ce.subtitled,Literal(prop['event.film.subtitled'],datatype=XSD.boolean)))\n",
        "    if(type(prop['event.film.parent-and-baby'])!=float):\n",
        "        g.add((film,ce.parent_and_baby,Literal(prop['event.film.parent-and-baby'],datatype=XSD.boolean)))\n",
        "    if(type(prop['event.film.senior'])!=float):\n",
        "        g.add((film,ce.senior,Literal(prop['event.film.senior'],datatype=XSD.boolean)))\n",
        "    if(type(prop['event.film.over-18s'])!=float):\n",
        "        g.add((film,ce.over_18s,Literal(prop['event.film.over-18s'],datatype=XSD.boolean)))\n",
        "    if(type(prop['event.film.autism-friendly'])!=float):\n",
        "        g.add((film,ce.autism_friendly,Literal(prop['event.film.autism-friendly'],datatype=XSD.boolean)))\n",
        "    if(type(prop['event.film.premium-screening'])!=float):\n",
        "        g.add((film,ce.premium_screening,Literal(prop['event.film.premium-screening'],datatype=XSD.boolean)))\n",
        "    if(type(prop['event.film.imax'])!=float):\n",
        "        g.add((film,ce.imax,Literal(prop['event.film.imax'],datatype=XSD.boolean)))\n",
        "    g.add((propertyEvent,ce.hasFilm,film))\n",
        "    #Theatre node\n",
        "    theatre= URIRef(\"https://w3id.org/ce/i/Theatre/\"+str(event)+\"/\"+str(p['ts']))\n",
        "    g.add((theatre,RDF.type,ce.Theatre))\n",
        "    if(type(prop['event.theatre.bsl-interpreted'])!=float):\n",
        "        g.add((theatre,ce.bsl_interpreted,Literal(prop['event.theatre.bsl-interpreted'],datatype=XSD.boolean)))\n",
        "    if(type(prop['event.theatre.captioned'])!=float):\n",
        "        g.add((theatre,ce.captioned,Literal(prop['event.theatre.captioned'],datatype=XSD.boolean)))\n",
        "    g.add((film,ce.hasTheatre,theatre))"
      ]
    },
    {
      "cell_type": "code",
      "execution_count": null,
      "id": "c307c379",
      "metadata": {
        "id": "c307c379"
      },
      "outputs": [],
      "source": [
        "# filepath = '/Users/najmi/Desktop/Final Dissertation/sessionKnowledgeGraph3.pkl'\n",
        "# dill.dump_session(filepath)"
      ]
    },
    {
      "cell_type": "code",
      "execution_count": null,
      "id": "b40ea994",
      "metadata": {
        "id": "b40ea994"
      },
      "outputs": [],
      "source": [
        "# data\n",
        "tickets.columns\n",
        "PropData.columns"
      ]
    },
    {
      "cell_type": "markdown",
      "id": "QwuOM2UeVFoB",
      "metadata": {
        "id": "QwuOM2UeVFoB"
      },
      "source": [
        "# **Property Node**"
      ]
    },
    {
      "cell_type": "code",
      "execution_count": null,
      "id": "a05ac97f",
      "metadata": {
        "id": "a05ac97f"
      },
      "outputs": [],
      "source": [
        "# Property Node\n",
        "i=0\n",
        "for aEvent in PropData['event_id']:\n",
        "    event = URIRef(\"https://w3id.org/ce/i/Event/\"+str(aEvent))\n",
        "    properties = URIRef(\"https://w3id.org/ce/i/Property/\"+str(aEvent))\n",
        "    g.add((properties,RDF.type,ce.Properties))\n",
        "    prop= PropData.loc[PropData['event_id']==aEvent]\n",
        "    prop=prop.iloc[0]\n",
        "    if(type(prop['actor'])!= float):\n",
        "        g.add((properties,ce.actor ,Literal(prop['actor'],datatype=XSD.string)))\n",
        "    if(type(prop['actor:sample'])!= float):\n",
        "        g.add((properties,ce.actor_sample ,Literal(prop['actor:sample'],datatype=XSD.string)))\n",
        "    if(type(prop['affiliate:seatwave'])!= float):\n",
        "        g.add((properties,ce.affiliate_seatwave ,Literal(prop['affiliate:seatwave'],datatype=XSD.string)))\n",
        "    if(type(prop['affiliate:getmein'])!= float):\n",
        "        g.add((properties,ce.affiliate_getmein  ,Literal(prop['affiliate:getmein'],datatype=XSD.string)))\n",
        "    if(type(prop['cast'])!= float):\n",
        "        g.add((properties,ce.cast ,Literal(prop['cast'],datatype=XSD.string)))\n",
        "    if(type(prop['booking_essential'])!= float):\n",
        "        g.add((properties,ce.booking_essential ,Literal(prop['booking_essential'],datatype=XSD.boolean)))\n",
        "    if(type(prop['awards:fringe-sustainable-practice:2017 '])!= float):\n",
        "        g.add((properties,ce.awards_fringe_sustainable_practice2017  ,Literal(prop['awards:fringe-sustainable-practice:2017 '],datatype=XSD.boolean)))\n",
        "    if(type(prop['awards:fringe-sustainable-practice:2015'])!= float):\n",
        "        g.add((properties,ce.awards_fringe_sustainable_practice2015   ,Literal(prop['awards:fringe-sustainable-practice:2015'],datatype=XSD.boolean)))\n",
        "    \n",
        "    \n",
        "    \n",
        "    if(type(prop['director'])!= float):\n",
        "        g.add((properties,ce.director ,Literal(prop['director'],datatype=XSD.string)))\n",
        "    if(type(prop['dropin_event'])!= float):\n",
        "        g.add((properties,ce.dropin_event ,Literal(prop['dropin_event'],datatype=XSD.boolean)))\n",
        "    if(type(prop['event:demographic'])!= float):\n",
        "        g.add((properties,ce.demographic ,Literal(prop['event:demographic'],datatype=XSD.string)))\n",
        "    if(type(prop['event:language'])!= float):\n",
        "        g.add((properties,ce.language ,Literal(prop['event:language'],datatype=XSD.string)))\n",
        "        print(prop['event:language'])\n",
        "    if(type(prop['expected_visit_duration'])!= float):\n",
        "        g.add((properties,ce.expected_visit_duration   ,Literal(prop['expected_visit_duration'],datatype=XSD.string)))\n",
        "    if(type(prop['film:amg_id'])!= float):\n",
        "        g.add((properties,ce.film_amg_id  ,Literal(prop['film:amg_id'],datatype=XSD.string)))\n",
        "    if(type(prop['film:certificate'])!= float):\n",
        "        g.add((properties,ce.film_certificate ,Literal(prop['film:certificate'],datatype=XSD.string)))\n",
        "    if(type(prop['film:certificate:bbfc'])!= float):\n",
        "        g.add((properties,ce.film_certificate_bbfc   ,Literal(prop['film:certificate:bbfc'],datatype=XSD.string)))\n",
        "    if(type(prop['film:colour'])!= float):\n",
        "        g.add((properties,ce.film_colour   ,Literal(prop['film:colour'],datatype=XSD.string)))\n",
        "    \n",
        "    if(type(prop['film:country-of-origin'])!= float):\n",
        "        g.add((properties,ce.film_country_of_origin ,Literal(prop['film:country-of-origin'],datatype=XSD.string)))\n",
        "    if(type(prop['film:imdb'])!= float):\n",
        "        g.add((properties,ce.film_imdb ,Literal(prop['film:imdb'],datatype=XSD.string)))\n",
        "    if(type(prop['film:imdb_id'])!= float):\n",
        "        g.add((properties,ce.film_imdb_id  ,Literal(prop['film:imdb_id'],datatype=XSD.string)))\n",
        "    if(type(prop['film:itunes'])!= float):\n",
        "        g.add((properties,ce.film_itunes   ,Literal(prop['film:itunes'],datatype=XSD.string)))\n",
        "    if(type(prop['film:metacritic'])!= float):\n",
        "        g.add((properties,ce.film_metacritic  ,Literal(prop['film:metacritic'],datatype=XSD.string)))\n",
        "    if(type(prop['film:metcritic'])!= float):\n",
        "        g.add((properties,ce.film_metcritic ,Literal(prop['film:metcritic'],datatype=XSD.string)))\n",
        "    if(type(prop['film:mojo_id'])!= float):\n",
        "        g.add((properties,ce.film_mojo_id   ,Literal(prop['film:mojo_id'],datatype=XSD.string)))\n",
        "    if(type(prop['film:release-date:uk'])!= float):\n",
        "        g.add((properties,ce.film_release_date_uk   ,Literal(prop['film:release-date:uk'],datatype=XSD.string)))\n",
        "    \n",
        "    \n",
        "    if(type(prop['film:rotten-tomatoes'])!= float):\n",
        "        g.add((properties,ce.film_rotten_tomatoes ,Literal(prop['film:rotten-tomatoes'],datatype=XSD.string)))\n",
        "    if(type(prop['film:rotten_tomatoes_id'])!= float):\n",
        "        g.add((properties,ce.film_rotten_tomatoes_id ,Literal(prop['film:rotten_tomatoes_id'],datatype=XSD.string)))\n",
        "    if(type(prop['film:running-time'])!= float):\n",
        "        g.add((properties,ce.film_running_time  ,Literal(prop['film:running-time'],datatype=XSD.string)))\n",
        "    if(type(prop['film:subtitle'])!= float):\n",
        "        g.add((properties,ce.film_subtitle   ,Literal(prop['film:subtitle'],datatype=XSD.string)))\n",
        "    if(type(prop['film:wikipedia'])!= float):\n",
        "        g.add((properties,ce.film_wikipedia  ,Literal(prop['film:wikipedia'],datatype=XSD.string)))\n",
        "    if(type(prop['film:wikipedia:image'])!= float):\n",
        "        g.add((properties,ce.film_wikipedia_image ,Literal(prop['film:wikipedia:image'],datatype=XSD.string)))\n",
        "    if(type(prop['film:wikipedia:image_caption'])!= float):\n",
        "        g.add((properties,ce.film_wikipedia_image_caption  ,Literal(prop['film:wikipedia:image_caption'],datatype=XSD.string)))\n",
        "    if(type(prop['film:year'])!= float):\n",
        "        g.add((properties,ce.film_year  ,Literal(prop['film:year'],datatype=XSD.string)))\n",
        "    if(type(prop['writer'])!= float):\n",
        "        g.add((properties,ce.writer  ,Literal(prop['writer'],datatype=XSD.string)))\n",
        "    \n",
        "    if(type(prop['list:feed:imageid'])!= float):\n",
        "        g.add((properties,ce.imageid ,Literal(prop['list:feed:imageid'],datatype=XSD.string)))\n",
        "    if(type(prop['list:importanceOverride'])!= float):\n",
        "        g.add((properties,ce.importanceOverride ,Literal(prop['list:importanceOverride'],datatype=XSD.string)))\n",
        "    if(type(prop['list:importance'])!= float):\n",
        "        g.add((properties,ce.importance ,Literal(prop['list:importance'],datatype=XSD.string)))\n",
        "    if(type(prop['list:sportscotland:include'])!= float):\n",
        "        g.add((properties,ce.list_sportscotland_include  ,Literal(prop['list:sportscotland:include'],datatype=XSD.string)))\n",
        "    if(type(prop['list:website:comments-enabled'])!= float):\n",
        "        g.add((properties,ce.website_comments_enabled   ,Literal(prop['list:website:comments-enabled'],datatype=XSD.boolean)))\n",
        "    if(type(prop['list:website:comments-end-date'])!= float):\n",
        "        g.add((properties,ce.website_comments_end_date  ,Literal(prop['list:website:comments-end-date'],datatype=XSD.string)))\n",
        "    if(type(prop['list:website:company'])!= float):\n",
        "        g.add((properties,ce.website_company ,Literal(prop['list:website:company'],datatype=XSD.string)))\n",
        "    if(type(prop['list:website:hitlisted'])!= float):\n",
        "        g.add((properties,ce.website_hitlisted   ,Literal(prop['list:website:hitlisted'],datatype=XSD.string)))\n",
        "    if(type(prop['list:website:list-of-sites'])!= float):\n",
        "        g.add((properties,ce.website_list_of_sites   ,Literal(prop['list:website:list-of-sites'],datatype=XSD.string)))\n",
        "    \n",
        "    if(type(prop['organisation'])!= float):\n",
        "        g.add((properties,ce.organisation  ,Literal(prop['organisation'],datatype=XSD.string)))\n",
        "    if(type(prop['pa:rating'])!= float):\n",
        "        g.add((properties,ce.pa_rating ,Literal(prop['pa:rating'],datatype=XSD.string)))\n",
        "    if(type(prop['place:capacity:max'])!= float):\n",
        "        g.add((properties,ce.capacity_max   ,Literal(prop['place:capacity:max'],datatype=XSD.string)))\n",
        "    if(type(prop['simpleview:original:categories'])!= float):\n",
        "        g.add((properties,ce.simpleview_original_categories   ,Literal(prop['simpleview:original:categories'],datatype=XSD.string)))\n",
        "    g.add((event,ce.hasProperty,properties))\n",
        "    i+=1\n",
        "    print('end of loop',i)"
      ]
    },
    {
      "cell_type": "code",
      "execution_count": null,
      "id": "5928bfeb",
      "metadata": {
        "id": "5928bfeb"
      },
      "outputs": [],
      "source": [
        "# DataSetsfilepath = '/Users/najmi/Desktop/Final Dissertation/session.pkl'\n",
        "#  # Save the session\n",
        "# dill.load_session(DataSetsfilepath)\n",
        "#data=data.drop(['descriptions','id','performances'],axis=1)\n",
        "# filepath = '/Users/najmi/Desktop/Final Dissertation/sessionKnowledgeGraph3.pkl'\n",
        "# dill.load_session(filepath)\n",
        "# !pip install pygpu\n",
        "# import pygpu\n",
        "# filepath = '/content/drive/MyDrive/sessionKnowledgeGraph4.pkl'\n",
        "# dill.load_session(filepath)"
      ]
    },
    {
      "cell_type": "markdown",
      "id": "35769fc6",
      "metadata": {
        "id": "35769fc6"
      },
      "source": [
        "# ![dataModel.png](attachment:dataModel.png)"
      ]
    },
    {
      "cell_type": "code",
      "execution_count": null,
      "id": "f4f6c876",
      "metadata": {
        "id": "f4f6c876"
      },
      "outputs": [],
      "source": [
        "with open(\"/content/df_places\",\"rb\") as places_data:\n",
        "    placesData=pickle.load(places_data)"
      ]
    },
    {
      "cell_type": "code",
      "execution_count": null,
      "id": "8466c9d0",
      "metadata": {
        "id": "8466c9d0"
      },
      "outputs": [],
      "source": [
        "locData=loc\n",
        "locData.drop_duplicates(keep='first')"
      ]
    },
    {
      "cell_type": "markdown",
      "id": "bc8a2527",
      "metadata": {},
      "source": [
        "Place Node"
      ]
    },
    {
      "cell_type": "code",
      "execution_count": null,
      "id": "ff5fe2df",
      "metadata": {
        "id": "ff5fe2df"
      },
      "outputs": [],
      "source": [
        "#ce:place node\n",
        "for event_ in data['event_id']:\n",
        "    eventData= data.loc[data['event_id']==event_]\n",
        "    \n",
        "    places=pd.unique(eventData['place_id'])\n",
        "    eventData= eventData.iloc[0]\n",
        "    for place_id in places:\n",
        "      \n",
        "      placeData= placesData.loc[placesData['place_id']==place_id]\n",
        "      placeData= placeData.iloc[0]\n",
        "      event = URIRef(\"https://w3id.org/ce/i/Event/\"+str(event_))\n",
        "      place = URIRef(\"https://w3id.org/ce/i/Place/\"+str(place_id))\n",
        "      g.add((place,RDF.type,ce.Place))\n",
        "      g.add((place,ce.place_id,Literal(place_id,datatype=XSD.integer)))\n",
        "      g.add((place,ce.created_ts,Literal(str(placeData['created_ts']),datatype=XSD.string)))\n",
        "      g.add((place,ce.modified_ts,Literal(str(placeData['modified_ts']),datatype=XSD.string)))\n",
        "      g.add((place,ce.name,Literal(placeData['name'],datatype=XSD.string)))\n",
        "      g.add((place,ce.sort_name,Literal(placeData['sort_name'],datatype=XSD.string)))\n",
        "      if(type(placesData['address'])!=float):\n",
        "          g.add((place,ce.address,Literal(placeData['address'],datatype=XSD.string)))\n",
        "      if(type(placesData['town'])!=float):\n",
        "          g.add((place,ce.town,Literal(placeData['town'],datatype=XSD.string)))\n",
        "      g.add((place,ce.postal_code,Literal(placeData['postal_code'],datatype=XSD.string)))\n",
        "      g.add((place,ce.country_code,Literal(placeData['country_code'],datatype=XSD.string)))\n",
        "      if(type(placesData['website'])!=float):\n",
        "          g.add((place,ce.website,Literal(placeData['website'],datatype=XSD.string)))\n",
        "      if(type(placesData['email'])!=float):\n",
        "          g.add((place,ce.email,Literal(placeData['email'],datatype=XSD.string)))\n",
        "      g.add((place,ce.status,Literal(placeData['status'],datatype=XSD.string)))\n",
        "      # adding location node\n",
        "      location=locData.loc[locData['place_id']==place_id]\n",
        "      location= location.iloc[0]\n",
        "      loc = URIRef(\"https://w3id.org/ce/i/Location/\"+str(place_id))\n",
        "      g.add((loc,RDF.type,ce.Loc))\n",
        "      g.add((loc,ce.longitude,Literal(str(location['longitude']),datatype=XSD.string)))\n",
        "      g.add((loc,ce.latitude,Literal(str(location['latitude']),datatype=XSD.string)))\n",
        "      g.add((place,ce.hasLocation,loc))\n",
        "      #adding tag node\n",
        "      if(len(placeTags.loc[placeTags['place_id']==place_id,'tags'])>0):\n",
        "          thisTag= placeTags.loc[placeTags['place_id']==place_id,'tags']\n",
        "          thisTag= thisTag.iloc[0]\n",
        "          if(type(thisTag)!=float):\n",
        "              tag = URIRef(\"https://w3id.org/ce/i/placeTag/\"+str(place_id))\n",
        "              g.add((tag,RDF.type,ce.Tag))\n",
        "              for aTag in thisTag:\n",
        "                  g.add((tag,ce.Tags,Literal(str(aTag),datatype=XSD.string)))\n",
        "                  print(aTag,'ha',linkTag)\n",
        "              g.add((place,ce.hasTag,tag))\n",
        "      \n",
        "      #adding place properties' node\n",
        "      if(len(place_prop.loc[place_prop['place_id']==place_id])>0):\n",
        "          thisPlaceProps=place_prop.loc[place_prop['place_id']==place_id]\n",
        "          thisPlaceProps= thisPlaceProps.iloc[0]\n",
        "          properties = URIRef(\"https://w3id.org/ce/i/Property/\"+str(place_id))\n",
        "          g.add((properties,RDF.type,ce.Property))\n",
        "          if(type(thisPlaceProps['place.capacity.max'])!=float):\n",
        "              g.add((properties,ce.capacity_max,Literal(str(thisPlaceProps['place.capacity.max']),datatype=XSD.string)))\n",
        "          if(type(thisPlaceProps['place.child-friendly'])!=float):\n",
        "              g.add((place,ce.child_friendly,Literal(str(thisPlaceProps['place.child-friendly']),datatype=XSD.string)))\n",
        "          if(type(thisPlaceProps['place.child-restrictions'])!=float):\n",
        "              g.add((properties,ce.child_restrictions ,Literal(thisPlaceProps['place.child-restrictions'],datatype=XSD.boolean)))\n",
        "          if(type(thisPlaceProps['place.facilities.dogs-allowed'])!=float):\n",
        "              g.add((properties,ce.dogs_allowed ,Literal(thisPlaceProps['place.facilities.dogs-allowed'],datatype=XSD.boolean)))\n",
        "          if(type(thisPlaceProps['place.facilities.free-wifi'])!=float):\n",
        "              g.add((properties,ce.free_wifi ,Literal(thisPlaceProps['place.facilities.free-wifi'],datatype=XSD.boolean)))\n",
        "          if(type(thisPlaceProps['place.facilities.guide-dogs'])!=float):\n",
        "              g.add((properties,ce.guide_dogs ,Literal(thisPlaceProps['place.facilities.guide-dogs'],datatype=XSD.boolean)))\n",
        "          if(type(thisPlaceProps['place.facilities.hearing-loop'])!=float):\n",
        "              g.add((properties,ce.hearing_loop ,Literal(thisPlaceProps['place.facilities.hearing-loop'],datatype=XSD.boolean)))\n",
        "          if(type(thisPlaceProps['place.facilities.parking'])!=float):\n",
        "              g.add((properties,ce.free_wifi ,Literal(thisPlaceProps['place.facilities.parking'],datatype=XSD.boolean)))\n",
        "          if(type(thisPlaceProps['place.facilities.toilets'])!=float):\n",
        "              g.add((properties,ce.toilets ,Literal(thisPlaceProps['place.facilities.toilets'],datatype=XSD.boolean)))\n",
        "          if(type(thisPlaceProps['place.facilities.toilets.baby-changing'])!=float):\n",
        "              g.add((properties,ce.baby_changing ,Literal(thisPlaceProps['place.facilities.toilets.baby-changing'],datatype=XSD.boolean)))\n",
        "          if(type(thisPlaceProps['place.facilities.toilets_disabled'])!=float):\n",
        "              g.add((properties,ce.toilets_disabled  ,Literal(thisPlaceProps['place.facilities.toilets_disabled'],datatype=XSD.boolean)))\n",
        "          if(type(thisPlaceProps['place.facilities.wheelchair-access'])!=float):\n",
        "              g.add((properties,ce.wheelchair_access ,Literal(thisPlaceProps['place.facilities.wheelchair-access'],datatype=XSD.boolean)))\n",
        "      \n",
        "          g.add((place,ce.hasProperty,properties))\n",
        "      #adding phone node\n",
        "          phone=placesPhoneData.loc[placesPhoneData['place_id']==place_id]\n",
        "          phone= phone.iloc[0]\n",
        "          phoneNumber= URIRef(\"https://w3id.org/ce/i/PhoneNumber/\"+str(place_id))\n",
        "          if(type(phone['info'])!= float):\n",
        "              g.add((phoneNumber,ce.info ,Literal(phone['info'],datatype=XSD.string)))\n",
        "          if(type(phone['box_office'])!= float):\n",
        "              g.add((phoneNumber,ce.box_office ,Literal(phone['box_office'],datatype=XSD.string)))\n",
        "      \n",
        "          g.add((place,ce.hasPhoneNumber, phoneNumber))\n",
        "      # adding description node\n",
        "          description= URIRef(\"https://w3id.org/ce/i/placeDescription/\"+str(place_id))\n",
        "          g.add((description, RDF.type, ce.Description))\n",
        "          if(len( placeDesc.loc[placeDesc['place_id']==place_id])>0):\n",
        "              place_description=placeDesc.loc[placeDesc['place_id']==place_id]\n",
        "              place_description= place_description.iloc[0]\n",
        "              print(place_description)\n",
        "              if(type(place_description['description'])!=float):\n",
        "                  g.add((description,ce.description,Literal(place_description['description'],datatype=XSD.string)))\n",
        "              if(type(place_description['type'])!=float):\n",
        "                  g.add((description,ce.type ,Literal(str(place_description['type']),datatype=XSD.string)))\n",
        "              g.add((place,ce.hasDescription,description))\n",
        "          \n",
        "              \n",
        "          \n",
        "      \n",
        "      g.add((event,ce.hasPlace,place))\n",
        "          \n",
        "        \n",
        "        \n",
        "#     print(location)\n",
        "#     print(place)\n",
        "#     print(event_)\n",
        "   \n",
        "    \n",
        "    \n",
        "    \n",
        "    \n",
        "    \n",
        "    "
      ]
    },
    {
      "cell_type": "code",
      "execution_count": 265,
      "id": "jME4Kmmmu5LP",
      "metadata": {
        "id": "jME4Kmmmu5LP"
      },
      "outputs": [],
      "source": [
        "filepath = '/content/drive/MyDrive/sessionKnowledgeGraph4.pkl'\n",
        "dill.dump_session(filepath)"
      ]
    },
    {
      "cell_type": "code",
      "execution_count": 123,
      "id": "iWthox5RrDw5",
      "metadata": {
        "colab": {
          "base_uri": "https://localhost:8080/"
        },
        "id": "iWthox5RrDw5",
        "outputId": "4260aa59-ec86-4a6e-a450-81b2cdad6919"
      },
      "outputs": [
        {
          "name": "stderr",
          "output_type": "stream",
          "text": [
            "/usr/local/lib/python3.7/dist-packages/rdflib/term.py:1439: UserWarning: Parsing weird boolean, 'nan' does not map to True or False\n",
            "  category=UserWarning,\n"
          ]
        }
      ],
      "source": [
        "# filepath = '/content/drive/MyDrive/sessionKnowledgeGraph4.pkl'\n",
        "# dill.load_session(filepath)"
      ]
    },
    {
      "cell_type": "markdown",
      "id": "xiBtc4WnVpen",
      "metadata": {
        "id": "xiBtc4WnVpen"
      },
      "source": [
        "# SPARQL CHECKING"
      ]
    },
    {
      "cell_type": "code",
      "execution_count": 3,
      "id": "756ea27e",
      "metadata": {
        "colab": {
          "base_uri": "https://localhost:8080/"
        },
        "id": "756ea27e",
        "outputId": "51dbe169-c830-47a3-8e45-86d2942089f4"
      },
      "outputs": [
        {
          "name": "stdout",
          "output_type": "stream",
          "text": [
            "Looking in indexes: https://pypi.org/simple, https://us-python.pkg.dev/colab-wheels/public/simple/\n",
            "Collecting SPARQLWrapper\n",
            "  Downloading SPARQLWrapper-2.0.0-py3-none-any.whl (28 kB)\n",
            "Collecting rdflib>=6.1.1\n",
            "  Downloading rdflib-6.1.1-py3-none-any.whl (482 kB)\n",
            "\u001b[K     |████████████████████████████████| 482 kB 6.7 MB/s \n",
            "\u001b[?25hRequirement already satisfied: setuptools in /usr/local/lib/python3.7/dist-packages (from rdflib>=6.1.1->SPARQLWrapper) (57.4.0)\n",
            "Requirement already satisfied: importlib-metadata in /usr/local/lib/python3.7/dist-packages (from rdflib>=6.1.1->SPARQLWrapper) (4.11.4)\n",
            "Collecting isodate\n",
            "  Downloading isodate-0.6.1-py2.py3-none-any.whl (41 kB)\n",
            "\u001b[K     |████████████████████████████████| 41 kB 870 kB/s \n",
            "\u001b[?25hRequirement already satisfied: pyparsing in /usr/local/lib/python3.7/dist-packages (from rdflib>=6.1.1->SPARQLWrapper) (3.0.9)\n",
            "Requirement already satisfied: typing-extensions>=3.6.4 in /usr/local/lib/python3.7/dist-packages (from importlib-metadata->rdflib>=6.1.1->SPARQLWrapper) (4.1.1)\n",
            "Requirement already satisfied: zipp>=0.5 in /usr/local/lib/python3.7/dist-packages (from importlib-metadata->rdflib>=6.1.1->SPARQLWrapper) (3.8.0)\n",
            "Requirement already satisfied: six in /usr/local/lib/python3.7/dist-packages (from isodate->rdflib>=6.1.1->SPARQLWrapper) (1.15.0)\n",
            "Installing collected packages: isodate, rdflib, SPARQLWrapper\n",
            "Successfully installed SPARQLWrapper-2.0.0 isodate-0.6.1 rdflib-6.1.1\n"
          ]
        }
      ],
      "source": [
        "# #data=data.drop_duplicates(subset=['event_id','modified_ts','created_ts',\n",
        "#                     'name',         'sort_name',            'status',\n",
        "#                  'website','category',\n",
        "#                    'ranking_level',  'ranking_in_level','frequency_event' ,\n",
        "#                 'start_ts',            'end_ts',          'place_id'])\n",
        "!pip install SPARQLWrapper\n",
        "import rdflib\n",
        "from rdflib.extras.external_graph_libs import rdflib_to_networkx_multidigraph\n",
        "import networkx as nx\n",
        "import matplotlib.pyplot as pl\n",
        "from rdflib import Graph, ConjunctiveGraph, Namespace, Literal\n",
        "from rdflib.plugins.sparql import prepareQuery\n",
        "import networkx as nx\n",
        "import matplotlib.pyplot as plt\n",
        "from SPARQLWrapper import SPARQLWrapper, JSON\n",
        "ce = Namespace(\"https://w3id.org/ce#\")"
      ]
    },
    {
      "cell_type": "code",
      "execution_count": null,
      "id": "48886132",
      "metadata": {
        "id": "48886132"
      },
      "outputs": [],
      "source": [
        "\n",
        "# phone=placesPhoneData.loc[placesPhoneData['place_id']==383]\n",
        "# phone= phone.iloc[0]\n",
        "# phone\n"
      ]
    },
    {
      "cell_type": "code",
      "execution_count": null,
      "id": "b8253656",
      "metadata": {
        "id": "b8253656"
      },
      "outputs": [],
      "source": [
        "# q3 = prepareQuery('''\n",
        "# SELECT ?b  ?k\n",
        "\n",
        "#     WHERE {\n",
        "#       ?event ce:hasPerformance ?performance.\n",
        "#      ?performance ce:hasDescription ?k.\n",
        "#      ?k ce:descriptions ?b.\n",
        "#        }\n",
        "#        limit 10\n",
        "#     ''',\n",
        "#   initNs = { \"ce\": ce}\n",
        "# )"
      ]
    },
    {
      "cell_type": "code",
      "execution_count": 224,
      "id": "1917606d",
      "metadata": {
        "id": "1917606d"
      },
      "outputs": [],
      "source": [
        "# for r in g.query(q3):\n",
        "#     print(\" \",r.k,r.b)\n",
        "# placesData.columns\n",
        "q4 = prepareQuery('''\n",
        "SELECT (count(distinct ?per) as ?Total)\n",
        "\n",
        "    WHERE {\n",
        "      ?e ce:event_id ?per.\n",
        "      \n",
        "       }\n",
        "    \n",
        "    ''',\n",
        "  initNs = { \"ce\": ce}\n",
        ")"
      ]
    },
    {
      "cell_type": "code",
      "execution_count": 225,
      "id": "0yIdr92WGNXe",
      "metadata": {
        "colab": {
          "base_uri": "https://localhost:8080/"
        },
        "id": "0yIdr92WGNXe",
        "outputId": "24e20c8d-2580-4035-86eb-156140b59e8d"
      },
      "outputs": [
        {
          "name": "stdout",
          "output_type": "stream",
          "text": [
            "ce:hasEvnt  38700\n"
          ]
        }
      ],
      "source": [
        "for r in g.query(q4):\n",
        "    print(\"ce:hasEvnt \",r.Total)"
      ]
    },
    {
      "cell_type": "code",
      "execution_count": 221,
      "id": "b364a748",
      "metadata": {
        "id": "b364a748"
      },
      "outputs": [],
      "source": [
        "q3 = prepareQuery('''\n",
        "SELECT (count(distinct ?per) as ?Total)\n",
        "\n",
        "    WHERE {\n",
        "      ?e ce:hasSchedule ?per.\n",
        "      \n",
        "       }\n",
        "    \n",
        "    ''',\n",
        "  initNs = { \"ce\": ce}\n",
        ")"
      ]
    },
    {
      "cell_type": "code",
      "execution_count": 222,
      "id": "a2a96fe9",
      "metadata": {
        "colab": {
          "base_uri": "https://localhost:8080/"
        },
        "id": "a2a96fe9",
        "outputId": "0020433b-f616-45fb-cbcc-267fbf9e6a7f"
      },
      "outputs": [
        {
          "name": "stdout",
          "output_type": "stream",
          "text": [
            "ce:hasEvnt  48790\n"
          ]
        }
      ],
      "source": [
        "for r in g.query(q3):\n",
        "    print(\"ce:hasEvnt \",r.Total)"
      ]
    },
    {
      "cell_type": "code",
      "execution_count": 219,
      "id": "854f4290",
      "metadata": {
        "id": "854f4290"
      },
      "outputs": [],
      "source": [
        "q4 = prepareQuery('''\n",
        "SELECT (count(distinct ?per) as ?TotalPer)\n",
        "\n",
        "    WHERE {\n",
        "      ?e ce:hasPerformance ?per.\n",
        "      \n",
        "       }\n",
        "    \n",
        "    ''',\n",
        "  initNs = { \"ce\": ce}\n",
        ")\n",
        "\n",
        "# eb=tic_desc.loc[tic_desc['event_id']==156630]\n",
        "# eb\n",
        "# filepath = '/Users/najmi/Desktop/Final Dissertation/sessionKnowledgeGraph4.pkl'\n",
        "# dill.load_session(filepath)"
      ]
    },
    {
      "cell_type": "code",
      "execution_count": 220,
      "id": "3ac73a53",
      "metadata": {
        "colab": {
          "base_uri": "https://localhost:8080/"
        },
        "id": "3ac73a53",
        "outputId": "db8b99f9-d161-485c-e4dd-0d9c32ef73e5"
      },
      "outputs": [
        {
          "name": "stdout",
          "output_type": "stream",
          "text": [
            "ce:hasEvnt  349855\n"
          ]
        }
      ],
      "source": [
        "for r in g.query(q4):\n",
        "    print(\"ce:hasEvnt \",r.TotalPer)"
      ]
    },
    {
      "cell_type": "code",
      "execution_count": 278,
      "id": "118b0d02",
      "metadata": {
        "id": "118b0d02"
      },
      "outputs": [],
      "source": [
        "q5 = prepareQuery('''\n",
        "SELECT (count(?sceds) as ?totalCityEvents)\n",
        "\n",
        "    WHERE {\n",
        "      \n",
        "     ?events ce:category ?cat;\n",
        "      ce:hasSchedule ?sceds;\n",
        "      ce:hasPlace ?place.\n",
        "      ?place ce:town ?town.\n",
        "\n",
        "       }\n",
        "       \n",
        "    \n",
        "    ''',\n",
        "  initNs = { \"ce\": ce}\n",
        ")\n",
        "\n",
        "# eb=tic_desc.loc[tic_desc['event_id']==156630]\n",
        "# eb\n",
        "# filepath = '/Users/najmi/Desktop/Final Dissertation/sessionKnowledgeGraph4.pkl'\n",
        "# dill.load_session(filepath)"
      ]
    },
    {
      "cell_type": "code",
      "execution_count": null,
      "id": "YvfnZgR_cFul",
      "metadata": {
        "id": "YvfnZgR_cFul"
      },
      "outputs": [],
      "source": [
        "for r in g.query(q5,initBindings = {'?cat' : Literal('Music', datatype=XSD.string),'?town' : Literal('Edinburgh', datatype=XSD.string)}):\n",
        "  print(r.totalCityEvents)"
      ]
    },
    {
      "cell_type": "code",
      "execution_count": 218,
      "id": "xvaZMtUFqe9n",
      "metadata": {
        "colab": {
          "base_uri": "https://localhost:8080/",
          "height": 1000
        },
        "id": "xvaZMtUFqe9n",
        "outputId": "07016a2d-20e2-4f89-f487-5368de1b9d31"
      },
      "outputs": [
        {
          "data": {
            "text/html": [
              "\n",
              "  <div id=\"df-dead0b84-2aca-4ac8-b5ad-e82980223b8c\">\n",
              "    <div class=\"colab-df-container\">\n",
              "      <div>\n",
              "<style scoped>\n",
              "    .dataframe tbody tr th:only-of-type {\n",
              "        vertical-align: middle;\n",
              "    }\n",
              "\n",
              "    .dataframe tbody tr th {\n",
              "        vertical-align: top;\n",
              "    }\n",
              "\n",
              "    .dataframe thead th {\n",
              "        text-align: right;\n",
              "    }\n",
              "</style>\n",
              "<table border=\"1\" class=\"dataframe\">\n",
              "  <thead>\n",
              "    <tr style=\"text-align: right;\">\n",
              "      <th></th>\n",
              "      <th>event_id</th>\n",
              "      <th>modified_ts</th>\n",
              "      <th>created_ts</th>\n",
              "      <th>name</th>\n",
              "      <th>sort_name</th>\n",
              "      <th>status</th>\n",
              "      <th>id</th>\n",
              "      <th>descriptions</th>\n",
              "      <th>website</th>\n",
              "      <th>tags</th>\n",
              "      <th>...</th>\n",
              "      <th>alternative_names</th>\n",
              "      <th>start_ts</th>\n",
              "      <th>end_ts</th>\n",
              "      <th>place_id</th>\n",
              "      <th>performances</th>\n",
              "      <th>performance_space</th>\n",
              "      <th>phone_numbers</th>\n",
              "      <th>0</th>\n",
              "      <th>description</th>\n",
              "      <th>type</th>\n",
              "    </tr>\n",
              "  </thead>\n",
              "  <tbody>\n",
              "    <tr>\n",
              "      <th>0</th>\n",
              "      <td>157884</td>\n",
              "      <td>2021-01-13T18:46:26Z</td>\n",
              "      <td>2007-12-06T17:18:12Z</td>\n",
              "      <td>Väsen</td>\n",
              "      <td>Väsen</td>\n",
              "      <td>live</td>\n",
              "      <td>157884</td>\n",
              "      <td>[{'type': 'description.list.default', 'descrip...</td>\n",
              "      <td>http://www.twoforjoy.co.uk</td>\n",
              "      <td>[Folk, Music]</td>\n",
              "      <td>...</td>\n",
              "      <td>NaN</td>\n",
              "      <td>2018-04-26T20:00:00+01:00</td>\n",
              "      <td>2018-04-26T20:00:00+01:00</td>\n",
              "      <td>383</td>\n",
              "      <td>[{'ts': '2018-04-26T20:00:00+01:00', 'duration...</td>\n",
              "      <td>NaN</td>\n",
              "      <td>NaN</td>\n",
              "      <td>NaN</td>\n",
              "      <td>Swedish trio combining acoustic instrumentatio...</td>\n",
              "      <td>description.list.default</td>\n",
              "    </tr>\n",
              "    <tr>\n",
              "      <th>1</th>\n",
              "      <td>194419</td>\n",
              "      <td>2022-02-02T01:03:54Z</td>\n",
              "      <td>2010-01-25T14:51:46Z</td>\n",
              "      <td>Martin Simpson</td>\n",
              "      <td>Martin Simpson</td>\n",
              "      <td>live</td>\n",
              "      <td>194419</td>\n",
              "      <td>[{'type': 'description.list.default', 'descrip...</td>\n",
              "      <td>http://www.martinsimpson.com/</td>\n",
              "      <td>[Blues, Folk &amp; world, Folk, Music, Jazz]</td>\n",
              "      <td>...</td>\n",
              "      <td>NaN</td>\n",
              "      <td>2018-03-10T19:30:00+00:00</td>\n",
              "      <td>2018-03-10T19:30:00+00:00</td>\n",
              "      <td>11092</td>\n",
              "      <td>[{'ts': '2018-03-10T19:30:00+00:00', 'duration...</td>\n",
              "      <td>NaN</td>\n",
              "      <td>NaN</td>\n",
              "      <td>NaN</td>\n",
              "      <td>Brilliant mix of English tradition and America...</td>\n",
              "      <td>description.list.default</td>\n",
              "    </tr>\n",
              "    <tr>\n",
              "      <th>7</th>\n",
              "      <td>194419</td>\n",
              "      <td>2022-02-02T01:03:54Z</td>\n",
              "      <td>2010-01-25T14:51:46Z</td>\n",
              "      <td>Martin Simpson</td>\n",
              "      <td>Martin Simpson</td>\n",
              "      <td>live</td>\n",
              "      <td>194419</td>\n",
              "      <td>[{'type': 'description.list.default', 'descrip...</td>\n",
              "      <td>http://www.martinsimpson.com/</td>\n",
              "      <td>[Blues, Folk &amp; world, Folk, Music, Jazz]</td>\n",
              "      <td>...</td>\n",
              "      <td>NaN</td>\n",
              "      <td>2018-03-08T20:00:00+00:00</td>\n",
              "      <td>2018-03-08T20:00:00+00:00</td>\n",
              "      <td>11200</td>\n",
              "      <td>[{'ts': '2018-03-08T20:00:00+00:00', 'links': ...</td>\n",
              "      <td>NaN</td>\n",
              "      <td>NaN</td>\n",
              "      <td>NaN</td>\n",
              "      <td>Brilliant mix of English tradition and America...</td>\n",
              "      <td>description.list.default</td>\n",
              "    </tr>\n",
              "    <tr>\n",
              "      <th>13</th>\n",
              "      <td>194419</td>\n",
              "      <td>2022-02-02T01:03:54Z</td>\n",
              "      <td>2010-01-25T14:51:46Z</td>\n",
              "      <td>Martin Simpson</td>\n",
              "      <td>Martin Simpson</td>\n",
              "      <td>live</td>\n",
              "      <td>194419</td>\n",
              "      <td>[{'type': 'description.list.default', 'descrip...</td>\n",
              "      <td>http://www.martinsimpson.com/</td>\n",
              "      <td>[Blues, Folk &amp; world, Folk, Music, Jazz]</td>\n",
              "      <td>...</td>\n",
              "      <td>NaN</td>\n",
              "      <td>2018-05-07T20:00:00+01:00</td>\n",
              "      <td>2018-05-07T20:00:00+01:00</td>\n",
              "      <td>386</td>\n",
              "      <td>[{'ts': '2018-05-07T20:00:00+01:00', 'links': ...</td>\n",
              "      <td>NaN</td>\n",
              "      <td>NaN</td>\n",
              "      <td>NaN</td>\n",
              "      <td>Brilliant mix of English tradition and America...</td>\n",
              "      <td>description.list.default</td>\n",
              "    </tr>\n",
              "    <tr>\n",
              "      <th>1339</th>\n",
              "      <td>58304</td>\n",
              "      <td>2022-02-03T05:21:16Z</td>\n",
              "      <td>2003-10-06T00:00:00Z</td>\n",
              "      <td>Classic Clapton</td>\n",
              "      <td>Classic Clapton</td>\n",
              "      <td>live</td>\n",
              "      <td>58304</td>\n",
              "      <td>[{'type': 'description.list.default', 'descrip...</td>\n",
              "      <td>http://www.classic-clapton.com</td>\n",
              "      <td>[Blues, Rock &amp; Pop, Music, Tribute Act, Eric C...</td>\n",
              "      <td>...</td>\n",
              "      <td>NaN</td>\n",
              "      <td>2018-04-29T19:30:00+01:00</td>\n",
              "      <td>2018-04-29T19:30:00+01:00</td>\n",
              "      <td>610</td>\n",
              "      <td>[{'ts': '2018-04-29T19:30:00+01:00', 'links': ...</td>\n",
              "      <td>NaN</td>\n",
              "      <td>{'info': '01506 777666'}</td>\n",
              "      <td>NaN</td>\n",
              "      <td>A recreation of Clapton's stage show and great...</td>\n",
              "      <td>description.list.default</td>\n",
              "    </tr>\n",
              "    <tr>\n",
              "      <th>...</th>\n",
              "      <td>...</td>\n",
              "      <td>...</td>\n",
              "      <td>...</td>\n",
              "      <td>...</td>\n",
              "      <td>...</td>\n",
              "      <td>...</td>\n",
              "      <td>...</td>\n",
              "      <td>...</td>\n",
              "      <td>...</td>\n",
              "      <td>...</td>\n",
              "      <td>...</td>\n",
              "      <td>...</td>\n",
              "      <td>...</td>\n",
              "      <td>...</td>\n",
              "      <td>...</td>\n",
              "      <td>...</td>\n",
              "      <td>...</td>\n",
              "      <td>...</td>\n",
              "      <td>...</td>\n",
              "      <td>...</td>\n",
              "      <td>...</td>\n",
              "    </tr>\n",
              "    <tr>\n",
              "      <th>160540</th>\n",
              "      <td>1551160</td>\n",
              "      <td>2020-03-20T12:22:33Z</td>\n",
              "      <td>2020-03-20T12:22:33Z</td>\n",
              "      <td>Langtoun Jazz Festival 2020 Concert 7 Mike Rog...</td>\n",
              "      <td>Langtoun Jazz Festival 2020 Concert 7 Mike Rog...</td>\n",
              "      <td>live</td>\n",
              "      <td>1551160</td>\n",
              "      <td>[{'type': 'description.official', 'description...</td>\n",
              "      <td>NaN</td>\n",
              "      <td>[Jazz, Music]</td>\n",
              "      <td>...</td>\n",
              "      <td>NaN</td>\n",
              "      <td>2020-06-27T15:00:00+01:00</td>\n",
              "      <td>2020-06-27T15:00:00+01:00</td>\n",
              "      <td>122937</td>\n",
              "      <td>[{'ts': '2020-06-27T15:00:00+01:00', 'duration...</td>\n",
              "      <td>NaN</td>\n",
              "      <td>NaN</td>\n",
              "      <td>NaN</td>\n",
              "      <td>Mike Rogers and his all star trio take well kn...</td>\n",
              "      <td>description.official</td>\n",
              "    </tr>\n",
              "    <tr>\n",
              "      <th>160542</th>\n",
              "      <td>1551161</td>\n",
              "      <td>2020-03-20T12:22:37Z</td>\n",
              "      <td>2020-03-20T12:22:37Z</td>\n",
              "      <td>Langtoun Jazz Festival 2020 Concert 8 Marianne...</td>\n",
              "      <td>Langtoun Jazz Festival 2020 Concert 8 Marianne...</td>\n",
              "      <td>live</td>\n",
              "      <td>1551161</td>\n",
              "      <td>[{'type': 'description.official', 'description...</td>\n",
              "      <td>NaN</td>\n",
              "      <td>[Jazz, Music]</td>\n",
              "      <td>...</td>\n",
              "      <td>NaN</td>\n",
              "      <td>2020-06-27T16:30:00+01:00</td>\n",
              "      <td>2020-06-27T16:30:00+01:00</td>\n",
              "      <td>122937</td>\n",
              "      <td>[{'ts': '2020-06-27T16:30:00+01:00', 'duration...</td>\n",
              "      <td>NaN</td>\n",
              "      <td>NaN</td>\n",
              "      <td>NaN</td>\n",
              "      <td>Marianne McGregor is a mulit-award winning, in...</td>\n",
              "      <td>description.official</td>\n",
              "    </tr>\n",
              "    <tr>\n",
              "      <th>160544</th>\n",
              "      <td>1555573</td>\n",
              "      <td>2020-03-20T12:22:42Z</td>\n",
              "      <td>2020-03-20T12:22:42Z</td>\n",
              "      <td>Langtoun Jazz Festival 2020 Concert 9 Sue McHu...</td>\n",
              "      <td>Langtoun Jazz Festival 2020 Concert 9 Sue McHu...</td>\n",
              "      <td>live</td>\n",
              "      <td>1555573</td>\n",
              "      <td>[{'type': 'description.official', 'description...</td>\n",
              "      <td>NaN</td>\n",
              "      <td>[Jazz, Music]</td>\n",
              "      <td>...</td>\n",
              "      <td>NaN</td>\n",
              "      <td>2020-06-27T18:00:00+01:00</td>\n",
              "      <td>2020-06-27T18:00:00+01:00</td>\n",
              "      <td>122937</td>\n",
              "      <td>[{'ts': '2020-06-27T18:00:00+01:00', 'duration...</td>\n",
              "      <td>NaN</td>\n",
              "      <td>NaN</td>\n",
              "      <td>NaN</td>\n",
              "      <td>Sue McHugh and her fine band of Scottish music...</td>\n",
              "      <td>description.official</td>\n",
              "    </tr>\n",
              "    <tr>\n",
              "      <th>160556</th>\n",
              "      <td>1596878</td>\n",
              "      <td>2020-09-13T02:21:13Z</td>\n",
              "      <td>2020-09-13T02:21:13Z</td>\n",
              "      <td>The Secret Garden Sessions With A Maxwell, Lou...</td>\n",
              "      <td>Secret Garden Sessions With A Maxwell, Lou Mcl...</td>\n",
              "      <td>live</td>\n",
              "      <td>1596878</td>\n",
              "      <td>[{'type': 'description.official', 'description...</td>\n",
              "      <td>NaN</td>\n",
              "      <td>[Music]</td>\n",
              "      <td>...</td>\n",
              "      <td>NaN</td>\n",
              "      <td>2020-09-20T15:15:00+01:00</td>\n",
              "      <td>2020-09-20T15:15:00+01:00</td>\n",
              "      <td>123752</td>\n",
              "      <td>[{'ts': '2020-09-20T15:15:00+01:00', 'duration...</td>\n",
              "      <td>NaN</td>\n",
              "      <td>NaN</td>\n",
              "      <td>NaN</td>\n",
              "      <td>A Totally unplugged, acoustic showcase in our ...</td>\n",
              "      <td>description.official</td>\n",
              "    </tr>\n",
              "    <tr>\n",
              "      <th>160566</th>\n",
              "      <td>1530853</td>\n",
              "      <td>2020-07-16T02:00:53Z</td>\n",
              "      <td>2020-02-18T01:40:09Z</td>\n",
              "      <td>Pop Revival Edinburgh - Liberty X and East 17</td>\n",
              "      <td>Pop Revival Edinburgh - Liberty X and East 17</td>\n",
              "      <td>live</td>\n",
              "      <td>1530853</td>\n",
              "      <td>[{'type': 'description.official', 'description...</td>\n",
              "      <td>NaN</td>\n",
              "      <td>[Music, Cheesy Dance, Pop]</td>\n",
              "      <td>...</td>\n",
              "      <td>NaN</td>\n",
              "      <td>2020-05-08T19:30:00+01:00</td>\n",
              "      <td>2020-05-08T19:30:00+01:00</td>\n",
              "      <td>125360</td>\n",
              "      <td>[{'ts': '2020-05-08T19:30:00+01:00', 'duration...</td>\n",
              "      <td>NaN</td>\n",
              "      <td>NaN</td>\n",
              "      <td>NaN</td>\n",
              "      <td>⭐ Liberty X and East 17 ⭐It might be 2020 but ...</td>\n",
              "      <td>description.official</td>\n",
              "    </tr>\n",
              "  </tbody>\n",
              "</table>\n",
              "<p>10414 rows × 29 columns</p>\n",
              "</div>\n",
              "      <button class=\"colab-df-convert\" onclick=\"convertToInteractive('df-dead0b84-2aca-4ac8-b5ad-e82980223b8c')\"\n",
              "              title=\"Convert this dataframe to an interactive table.\"\n",
              "              style=\"display:none;\">\n",
              "        \n",
              "  <svg xmlns=\"http://www.w3.org/2000/svg\" height=\"24px\"viewBox=\"0 0 24 24\"\n",
              "       width=\"24px\">\n",
              "    <path d=\"M0 0h24v24H0V0z\" fill=\"none\"/>\n",
              "    <path d=\"M18.56 5.44l.94 2.06.94-2.06 2.06-.94-2.06-.94-.94-2.06-.94 2.06-2.06.94zm-11 1L8.5 8.5l.94-2.06 2.06-.94-2.06-.94L8.5 2.5l-.94 2.06-2.06.94zm10 10l.94 2.06.94-2.06 2.06-.94-2.06-.94-.94-2.06-.94 2.06-2.06.94z\"/><path d=\"M17.41 7.96l-1.37-1.37c-.4-.4-.92-.59-1.43-.59-.52 0-1.04.2-1.43.59L10.3 9.45l-7.72 7.72c-.78.78-.78 2.05 0 2.83L4 21.41c.39.39.9.59 1.41.59.51 0 1.02-.2 1.41-.59l7.78-7.78 2.81-2.81c.8-.78.8-2.07 0-2.86zM5.41 20L4 18.59l7.72-7.72 1.47 1.35L5.41 20z\"/>\n",
              "  </svg>\n",
              "      </button>\n",
              "      \n",
              "  <style>\n",
              "    .colab-df-container {\n",
              "      display:flex;\n",
              "      flex-wrap:wrap;\n",
              "      gap: 12px;\n",
              "    }\n",
              "\n",
              "    .colab-df-convert {\n",
              "      background-color: #E8F0FE;\n",
              "      border: none;\n",
              "      border-radius: 50%;\n",
              "      cursor: pointer;\n",
              "      display: none;\n",
              "      fill: #1967D2;\n",
              "      height: 32px;\n",
              "      padding: 0 0 0 0;\n",
              "      width: 32px;\n",
              "    }\n",
              "\n",
              "    .colab-df-convert:hover {\n",
              "      background-color: #E2EBFA;\n",
              "      box-shadow: 0px 1px 2px rgba(60, 64, 67, 0.3), 0px 1px 3px 1px rgba(60, 64, 67, 0.15);\n",
              "      fill: #174EA6;\n",
              "    }\n",
              "\n",
              "    [theme=dark] .colab-df-convert {\n",
              "      background-color: #3B4455;\n",
              "      fill: #D2E3FC;\n",
              "    }\n",
              "\n",
              "    [theme=dark] .colab-df-convert:hover {\n",
              "      background-color: #434B5C;\n",
              "      box-shadow: 0px 1px 3px 1px rgba(0, 0, 0, 0.15);\n",
              "      filter: drop-shadow(0px 1px 2px rgba(0, 0, 0, 0.3));\n",
              "      fill: #FFFFFF;\n",
              "    }\n",
              "  </style>\n",
              "\n",
              "      <script>\n",
              "        const buttonEl =\n",
              "          document.querySelector('#df-dead0b84-2aca-4ac8-b5ad-e82980223b8c button.colab-df-convert');\n",
              "        buttonEl.style.display =\n",
              "          google.colab.kernel.accessAllowed ? 'block' : 'none';\n",
              "\n",
              "        async function convertToInteractive(key) {\n",
              "          const element = document.querySelector('#df-dead0b84-2aca-4ac8-b5ad-e82980223b8c');\n",
              "          const dataTable =\n",
              "            await google.colab.kernel.invokeFunction('convertToInteractive',\n",
              "                                                     [key], {});\n",
              "          if (!dataTable) return;\n",
              "\n",
              "          const docLinkHtml = 'Like what you see? Visit the ' +\n",
              "            '<a target=\"_blank\" href=https://colab.research.google.com/notebooks/data_table.ipynb>data table notebook</a>'\n",
              "            + ' to learn more about interactive tables.';\n",
              "          element.innerHTML = '';\n",
              "          dataTable['output_type'] = 'display_data';\n",
              "          await google.colab.output.renderOutput(dataTable, element);\n",
              "          const docLink = document.createElement('div');\n",
              "          docLink.innerHTML = docLinkHtml;\n",
              "          element.appendChild(docLink);\n",
              "        }\n",
              "      </script>\n",
              "    </div>\n",
              "  </div>\n",
              "  "
            ],
            "text/plain": [
              "        event_id           modified_ts            created_ts  \\\n",
              "0         157884  2021-01-13T18:46:26Z  2007-12-06T17:18:12Z   \n",
              "1         194419  2022-02-02T01:03:54Z  2010-01-25T14:51:46Z   \n",
              "7         194419  2022-02-02T01:03:54Z  2010-01-25T14:51:46Z   \n",
              "13        194419  2022-02-02T01:03:54Z  2010-01-25T14:51:46Z   \n",
              "1339       58304  2022-02-03T05:21:16Z  2003-10-06T00:00:00Z   \n",
              "...          ...                   ...                   ...   \n",
              "160540   1551160  2020-03-20T12:22:33Z  2020-03-20T12:22:33Z   \n",
              "160542   1551161  2020-03-20T12:22:37Z  2020-03-20T12:22:37Z   \n",
              "160544   1555573  2020-03-20T12:22:42Z  2020-03-20T12:22:42Z   \n",
              "160556   1596878  2020-09-13T02:21:13Z  2020-09-13T02:21:13Z   \n",
              "160566   1530853  2020-07-16T02:00:53Z  2020-02-18T01:40:09Z   \n",
              "\n",
              "                                                     name  \\\n",
              "0                                                   Väsen   \n",
              "1                                          Martin Simpson   \n",
              "7                                          Martin Simpson   \n",
              "13                                         Martin Simpson   \n",
              "1339                                      Classic Clapton   \n",
              "...                                                   ...   \n",
              "160540  Langtoun Jazz Festival 2020 Concert 7 Mike Rog...   \n",
              "160542  Langtoun Jazz Festival 2020 Concert 8 Marianne...   \n",
              "160544  Langtoun Jazz Festival 2020 Concert 9 Sue McHu...   \n",
              "160556  The Secret Garden Sessions With A Maxwell, Lou...   \n",
              "160566      Pop Revival Edinburgh - Liberty X and East 17   \n",
              "\n",
              "                                                sort_name status       id  \\\n",
              "0                                                   Väsen   live   157884   \n",
              "1                                          Martin Simpson   live   194419   \n",
              "7                                          Martin Simpson   live   194419   \n",
              "13                                         Martin Simpson   live   194419   \n",
              "1339                                      Classic Clapton   live    58304   \n",
              "...                                                   ...    ...      ...   \n",
              "160540  Langtoun Jazz Festival 2020 Concert 7 Mike Rog...   live  1551160   \n",
              "160542  Langtoun Jazz Festival 2020 Concert 8 Marianne...   live  1551161   \n",
              "160544  Langtoun Jazz Festival 2020 Concert 9 Sue McHu...   live  1555573   \n",
              "160556  Secret Garden Sessions With A Maxwell, Lou Mcl...   live  1596878   \n",
              "160566      Pop Revival Edinburgh - Liberty X and East 17   live  1530853   \n",
              "\n",
              "                                             descriptions  \\\n",
              "0       [{'type': 'description.list.default', 'descrip...   \n",
              "1       [{'type': 'description.list.default', 'descrip...   \n",
              "7       [{'type': 'description.list.default', 'descrip...   \n",
              "13      [{'type': 'description.list.default', 'descrip...   \n",
              "1339    [{'type': 'description.list.default', 'descrip...   \n",
              "...                                                   ...   \n",
              "160540  [{'type': 'description.official', 'description...   \n",
              "160542  [{'type': 'description.official', 'description...   \n",
              "160544  [{'type': 'description.official', 'description...   \n",
              "160556  [{'type': 'description.official', 'description...   \n",
              "160566  [{'type': 'description.official', 'description...   \n",
              "\n",
              "                               website  \\\n",
              "0           http://www.twoforjoy.co.uk   \n",
              "1        http://www.martinsimpson.com/   \n",
              "7        http://www.martinsimpson.com/   \n",
              "13       http://www.martinsimpson.com/   \n",
              "1339    http://www.classic-clapton.com   \n",
              "...                                ...   \n",
              "160540                             NaN   \n",
              "160542                             NaN   \n",
              "160544                             NaN   \n",
              "160556                             NaN   \n",
              "160566                             NaN   \n",
              "\n",
              "                                                     tags  ...  \\\n",
              "0                                           [Folk, Music]  ...   \n",
              "1                [Blues, Folk & world, Folk, Music, Jazz]  ...   \n",
              "7                [Blues, Folk & world, Folk, Music, Jazz]  ...   \n",
              "13               [Blues, Folk & world, Folk, Music, Jazz]  ...   \n",
              "1339    [Blues, Rock & Pop, Music, Tribute Act, Eric C...  ...   \n",
              "...                                                   ...  ...   \n",
              "160540                                      [Jazz, Music]  ...   \n",
              "160542                                      [Jazz, Music]  ...   \n",
              "160544                                      [Jazz, Music]  ...   \n",
              "160556                                            [Music]  ...   \n",
              "160566                         [Music, Cheesy Dance, Pop]  ...   \n",
              "\n",
              "       alternative_names                   start_ts  \\\n",
              "0                    NaN  2018-04-26T20:00:00+01:00   \n",
              "1                    NaN  2018-03-10T19:30:00+00:00   \n",
              "7                    NaN  2018-03-08T20:00:00+00:00   \n",
              "13                   NaN  2018-05-07T20:00:00+01:00   \n",
              "1339                 NaN  2018-04-29T19:30:00+01:00   \n",
              "...                  ...                        ...   \n",
              "160540               NaN  2020-06-27T15:00:00+01:00   \n",
              "160542               NaN  2020-06-27T16:30:00+01:00   \n",
              "160544               NaN  2020-06-27T18:00:00+01:00   \n",
              "160556               NaN  2020-09-20T15:15:00+01:00   \n",
              "160566               NaN  2020-05-08T19:30:00+01:00   \n",
              "\n",
              "                           end_ts  place_id  \\\n",
              "0       2018-04-26T20:00:00+01:00       383   \n",
              "1       2018-03-10T19:30:00+00:00     11092   \n",
              "7       2018-03-08T20:00:00+00:00     11200   \n",
              "13      2018-05-07T20:00:00+01:00       386   \n",
              "1339    2018-04-29T19:30:00+01:00       610   \n",
              "...                           ...       ...   \n",
              "160540  2020-06-27T15:00:00+01:00    122937   \n",
              "160542  2020-06-27T16:30:00+01:00    122937   \n",
              "160544  2020-06-27T18:00:00+01:00    122937   \n",
              "160556  2020-09-20T15:15:00+01:00    123752   \n",
              "160566  2020-05-08T19:30:00+01:00    125360   \n",
              "\n",
              "                                             performances performance_space  \\\n",
              "0       [{'ts': '2018-04-26T20:00:00+01:00', 'duration...               NaN   \n",
              "1       [{'ts': '2018-03-10T19:30:00+00:00', 'duration...               NaN   \n",
              "7       [{'ts': '2018-03-08T20:00:00+00:00', 'links': ...               NaN   \n",
              "13      [{'ts': '2018-05-07T20:00:00+01:00', 'links': ...               NaN   \n",
              "1339    [{'ts': '2018-04-29T19:30:00+01:00', 'links': ...               NaN   \n",
              "...                                                   ...               ...   \n",
              "160540  [{'ts': '2020-06-27T15:00:00+01:00', 'duration...               NaN   \n",
              "160542  [{'ts': '2020-06-27T16:30:00+01:00', 'duration...               NaN   \n",
              "160544  [{'ts': '2020-06-27T18:00:00+01:00', 'duration...               NaN   \n",
              "160556  [{'ts': '2020-09-20T15:15:00+01:00', 'duration...               NaN   \n",
              "160566  [{'ts': '2020-05-08T19:30:00+01:00', 'duration...               NaN   \n",
              "\n",
              "                   phone_numbers   0  \\\n",
              "0                            NaN NaN   \n",
              "1                            NaN NaN   \n",
              "7                            NaN NaN   \n",
              "13                           NaN NaN   \n",
              "1339    {'info': '01506 777666'} NaN   \n",
              "...                          ...  ..   \n",
              "160540                       NaN NaN   \n",
              "160542                       NaN NaN   \n",
              "160544                       NaN NaN   \n",
              "160556                       NaN NaN   \n",
              "160566                       NaN NaN   \n",
              "\n",
              "                                              description  \\\n",
              "0       Swedish trio combining acoustic instrumentatio...   \n",
              "1       Brilliant mix of English tradition and America...   \n",
              "7       Brilliant mix of English tradition and America...   \n",
              "13      Brilliant mix of English tradition and America...   \n",
              "1339    A recreation of Clapton's stage show and great...   \n",
              "...                                                   ...   \n",
              "160540  Mike Rogers and his all star trio take well kn...   \n",
              "160542  Marianne McGregor is a mulit-award winning, in...   \n",
              "160544  Sue McHugh and her fine band of Scottish music...   \n",
              "160556  A Totally unplugged, acoustic showcase in our ...   \n",
              "160566  ⭐ Liberty X and East 17 ⭐It might be 2020 but ...   \n",
              "\n",
              "                            type  \n",
              "0       description.list.default  \n",
              "1       description.list.default  \n",
              "7       description.list.default  \n",
              "13      description.list.default  \n",
              "1339    description.list.default  \n",
              "...                          ...  \n",
              "160540      description.official  \n",
              "160542      description.official  \n",
              "160544      description.official  \n",
              "160556      description.official  \n",
              "160566      description.official  \n",
              "\n",
              "[10414 rows x 29 columns]"
            ]
          },
          "execution_count": 218,
          "metadata": {},
          "output_type": "execute_result"
        }
      ],
      "source": [
        "data[data['category']=='Music'].drop_duplicates(subset=['event_id','category','start_ts'],keep='first')"
      ]
    },
    {
      "cell_type": "code",
      "execution_count": 130,
      "id": "Df6QpyxXXUGm",
      "metadata": {
        "id": "Df6QpyxXXUGm"
      },
      "outputs": [],
      "source": [
        "for place_id in placesData['place_id']:\n",
        "  place= URIRef(\"https://w3id.org/ce/i/Place/\"+str(place_id))\n",
        "  g.remove((place,None,None))"
      ]
    },
    {
      "cell_type": "code",
      "execution_count": 156,
      "id": "XYj9vL-JYMuh",
      "metadata": {
        "id": "XYj9vL-JYMuh"
      },
      "outputs": [],
      "source": [
        "nb=placesData[placesData['town']=='North Berwick']['place_id']"
      ]
    },
    {
      "cell_type": "code",
      "execution_count": null,
      "id": "sQjYdB6oZrL3",
      "metadata": {
        "id": "sQjYdB6oZrL3"
      },
      "outputs": [],
      "source": [
        "placesData[placesData['town']=='North Berwick']['place_id']"
      ]
    },
    {
      "cell_type": "code",
      "execution_count": 212,
      "id": "eyxPX2YgjGwC",
      "metadata": {
        "id": "eyxPX2YgjGwC"
      },
      "outputs": [],
      "source": [
        "for event_ in data['event_id']:\n",
        "  event = URIRef(\"https://w3id.org/ce/i/Event/\"+str(event_))\n",
        "  g.remove((event,None,None))"
      ]
    },
    {
      "cell_type": "code",
      "execution_count": null,
      "id": "9wbLosgb61cp",
      "metadata": {
        "id": "9wbLosgb61cp"
      },
      "outputs": [],
      "source": []
    }
  ],
  "metadata": {
    "colab": {
      "background_execution": "on",
      "collapsed_sections": [],
      "history_visible": true,
      "machine_shape": "hm",
      "name": "KnowledgeGraph.ipynb",
      "provenance": []
    },
    "gpuClass": "standard",
    "kernelspec": {
      "display_name": "Python 3 (ipykernel)",
      "language": "python",
      "name": "python3"
    },
    "language_info": {
      "codemirror_mode": {
        "name": "ipython",
        "version": 3
      },
      "file_extension": ".py",
      "mimetype": "text/x-python",
      "name": "python",
      "nbconvert_exporter": "python",
      "pygments_lexer": "ipython3",
      "version": "3.7.7"
    }
  },
  "nbformat": 4,
  "nbformat_minor": 5
}
